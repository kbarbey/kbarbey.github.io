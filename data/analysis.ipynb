{
 "cells": [
  {
   "cell_type": "code",
   "execution_count": 1,
   "metadata": {},
   "outputs": [],
   "source": [
    "import pandas as pd\n",
    "import numpy as np\n",
    "import matplotlib.pyplot as plt"
   ]
  },
  {
   "cell_type": "code",
   "execution_count": 16,
   "metadata": {},
   "outputs": [],
   "source": [
    "#import data from excel\n",
    "\n",
    "df = pd.read_excel('ascents.xlsx',engine='openpyxl')"
   ]
  },
  {
   "cell_type": "code",
   "execution_count": 20,
   "metadata": {},
   "outputs": [
    {
     "name": "stdout",
     "output_type": "stream",
     "text": [
      "6007.2988\n",
      "132610.4\n"
     ]
    }
   ],
   "source": [
    "print(df['Distance'].sum()/1000)\n",
    "print(df['Elevation'].sum())"
   ]
  },
  {
   "cell_type": "code",
   "execution_count": 6,
   "metadata": {},
   "outputs": [
    {
     "name": "stdout",
     "output_type": "stream",
     "text": [
      "               Tiles  New Tiles  Moving time  Elapsed time   Average  \\\n",
      "Elevation (m)                                                          \n",
      "0.0               10          1          979          1187  121.4064   \n",
      "1.0                5          2         1232          1314   32.2128   \n",
      "3.2                3          0          546           603   16.0020   \n",
      "3.7                4          0          578           624   24.9696   \n",
      "4.0                5          0          578           612   54.5508   \n",
      "...              ...        ...          ...           ...       ...   \n",
      "2496.7             5          3         5599          7978   17.3556   \n",
      "2617.6            22         22        16870         22725   13.3848   \n",
      "2795.5            10          6         5065          7770   17.9280   \n",
      "2932.2             7          2         6124          9148   17.2656   \n",
      "3203.4            57         57        25046         32893   14.9868   \n",
      "\n",
      "               Distance (m)  Commute  Trainer  Max heartrate  Avg heartrate  \\\n",
      "Elevation (m)                                                                 \n",
      "0.0                  8255.8        0        0              0            0.0   \n",
      "1.0                  5221.0        0        0              0            0.0   \n",
      "3.2                  2427.0        0        0              0            0.0   \n",
      "3.7                  4009.2        0        0              0            0.0   \n",
      "4.0                  4550.2        0        0              0            0.0   \n",
      "...                     ...      ...      ...            ...            ...   \n",
      "2496.7              26994.2        0        0              0            0.0   \n",
      "2617.6              62728.2        0        0              0            0.0   \n",
      "2795.5              25222.4        0        0              0            0.0   \n",
      "2932.2              29371.9        0        0              0            0.0   \n",
      "3203.4             104277.0        0        0              0            0.0   \n",
      "\n",
      "               Start Lat  Start Long  Photos  \n",
      "Elevation (m)                                 \n",
      "0.0             184.8587    27.58835       0  \n",
      "1.0              91.0472    15.43871       0  \n",
      "3.2              46.5463     6.58114       0  \n",
      "3.7              46.5479     6.56810       0  \n",
      "4.0              93.0636    13.06558       0  \n",
      "...                  ...         ...     ...  \n",
      "2496.7           46.3726     7.01747       0  \n",
      "2617.6           46.0870     7.05816       3  \n",
      "2795.5           46.2120     6.83358       0  \n",
      "2932.2           46.3933     7.09530       0  \n",
      "3203.4           46.3189     7.98411       7  \n",
      "\n",
      "[272 rows x 13 columns]\n"
     ]
    }
   ],
   "source": [
    "#do sum of distance and elevation gain for each user\n",
    "print(df.groupby('Elevation (m)').sum())\n"
   ]
  }
 ],
 "metadata": {
  "kernelspec": {
   "display_name": "pdm",
   "language": "python",
   "name": "python3"
  },
  "language_info": {
   "codemirror_mode": {
    "name": "ipython",
    "version": 3
   },
   "file_extension": ".py",
   "mimetype": "text/x-python",
   "name": "python",
   "nbconvert_exporter": "python",
   "pygments_lexer": "ipython3",
   "version": "3.8.18"
  }
 },
 "nbformat": 4,
 "nbformat_minor": 2
}
